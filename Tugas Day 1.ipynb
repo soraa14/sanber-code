{
 "cells": [
  {
   "cell_type": "markdown",
   "metadata": {},
   "source": [
    "<h2>Quiz 1 : Hello World to Python</h2>\n",
    "    \n",
    "Print Say Hello World to Python"
   ]
  },
  {
   "cell_type": "code",
   "execution_count": 1,
   "metadata": {},
   "outputs": [
    {
     "name": "stdout",
     "output_type": "stream",
     "text": [
      "Hello World\n"
     ]
    }
   ],
   "source": [
    "print('Hello World')"
   ]
  },
  {
   "cell_type": "markdown",
   "metadata": {},
   "source": [
    "Expected Output : \n",
    "\n",
    "Hello World Python"
   ]
  },
  {
   "cell_type": "markdown",
   "metadata": {},
   "source": [
    "<h2>Quiz 2 : Aritmatika di Python </h2>\n",
    "    \n",
    "- Buat statement pertambahan antara 2 number di Python\n",
    "- Buat statement perkurangan antara 2 number di Python\n",
    "- Buat statement perkalian antara 2 number di Python\n",
    "- Buat statement pembagian antara 2 number di Python"
   ]
  },
  {
   "cell_type": "code",
   "execution_count": 36,
   "metadata": {},
   "outputs": [
    {
     "name": "stdout",
     "output_type": "stream",
     "text": [
      "Hasil dari 5 ditambah 10 adalah 15\n",
      "Hasil dari 20 dikurang 10 adalah 10\n",
      "Hasil dari 10 dikali 100 adalah 1000\n",
      "Hasil dari 100 dibagi 10 adalah 10.0\n"
     ]
    }
   ],
   "source": [
    "#OPERASI PERTAMBAHAN\n",
    "a = 5\n",
    "b = 10\n",
    "pertambahan = a + b\n",
    "print('Hasil dari ' + str(a) + ' ditambah ' + str(b) + ' adalah ' + str(pertambahan))\n",
    "\n",
    "#OPERASI PENGURANGAN\n",
    "c = 20\n",
    "d = 10\n",
    "pengurangan = c - d\n",
    "print('Hasil dari ' + str(c) + ' dikurang ' + str(d) + ' adalah ' + str(pengurangan))\n",
    "\n",
    "#OPERASI PERKALIAN\n",
    "e = 10\n",
    "f = 100\n",
    "perkalian = e * f\n",
    "print('Hasil dari ' + str(e) + ' dikali ' + str(f) + ' adalah ' + str(perkalian))\n",
    "\n",
    "#OPERASI PEMBAGIAN\n",
    "g = 100\n",
    "h = 10\n",
    "pembagian = g / h\n",
    "print('Hasil dari ' + str(g) + ' dibagi ' + str(h) + ' adalah ' + str(pembagian))"
   ]
  },
  {
   "cell_type": "markdown",
   "metadata": {},
   "source": [
    "<h2>Quiz 3 : Assign Variable dan Tipe Data Integer, Float </h2>\n",
    "\n",
    "- Buat suatu variabel a dan b, dimana a dan b adalah nilai bertipe data numeric\n",
    "- Berikan suatu nilai bertipe data integer, hasil pembagian dari a dengan b\n",
    "- Berikan suatu nilai bertipe data float, hasil pembagian dari a dengan b"
   ]
  },
  {
   "cell_type": "code",
   "execution_count": 28,
   "metadata": {},
   "outputs": [
    {
     "name": "stdout",
     "output_type": "stream",
     "text": [
      "Hasil dari 40 dibagi 10 adalah 4\n",
      "Hasil dari 40 dibagi 10 adalah 4.0\n"
     ]
    }
   ],
   "source": [
    "#TIPE DATA NUMERIC\n",
    "a = 40\n",
    "b = 10\n",
    "pembagian = a / b\n",
    "\n",
    "#HASIL DENGAN TIPE INTEGER\n",
    "print('Hasil dari ' + str(a) + ' dibagi ' + str(b) + ' adalah ' + str(int(pembagian)))\n",
    "\n",
    "#HASIL DENGAN TIPE FLOAT\n",
    "print('Hasil dari ' + str(a) + ' dibagi ' + str(b) + ' adalah' ,float(pembagian))\n"
   ]
  },
  {
   "cell_type": "markdown",
   "metadata": {},
   "source": [
    "<h2>Quiz 4 : String Operation </h2>\n",
    "\n",
    "- masukan nama depan kamu kedalam suatu variable firstname\n",
    "- masukan nama belakang kamu kedalam suatu variable lasname\n",
    "- tampilkan suatu kalimat 'Hello sanbercode, saya firstname lastname! saya siap belajar python data science.'"
   ]
  },
  {
   "cell_type": "code",
   "execution_count": 44,
   "metadata": {},
   "outputs": [
    {
     "name": "stdout",
     "output_type": "stream",
     "text": [
      "Hello sanbercode, saya Aziz Rizki! saya siap belajar python data science.\n"
     ]
    }
   ],
   "source": [
    "firstname = 'Aziz '\n",
    "lastname = 'Rizki'\n",
    "print('Hello sanbercode, saya ' + firstname + lastname + '! saya siap belajar python data science.')"
   ]
  },
  {
   "cell_type": "markdown",
   "metadata": {},
   "source": [
    "Expected Output :\n",
    "\n",
    "Hello sanbercode, saya fauzan taufik! saya siap belajar python data science."
   ]
  },
  {
   "cell_type": "markdown",
   "metadata": {},
   "source": [
    "<h2>Quiz 5 : Tipe Data</h2>\n",
    "\n",
    "Lengkapi code di bawah ini untuk menghasilkan output yang sesuai"
   ]
  },
  {
   "cell_type": "code",
   "execution_count": 3,
   "metadata": {},
   "outputs": [
    {
     "name": "stdout",
     "output_type": "stream",
     "text": [
      "the number : 9.99999\n"
     ]
    }
   ],
   "source": [
    "p = 9.99999\n",
    "q = 'the number : '\n",
    "print (q + str(p))"
   ]
  },
  {
   "cell_type": "markdown",
   "metadata": {},
   "source": [
    "Expected Output :\n",
    "\n",
    "the number : 9.99999"
   ]
  }
 ],
 "metadata": {
  "kernelspec": {
   "display_name": "Python 3",
   "language": "python",
   "name": "python3"
  },
  "language_info": {
   "codemirror_mode": {
    "name": "ipython",
    "version": 3
   },
   "file_extension": ".py",
   "mimetype": "text/x-python",
   "name": "python",
   "nbconvert_exporter": "python",
   "pygments_lexer": "ipython3",
   "version": "3.7.2"
  }
 },
 "nbformat": 4,
 "nbformat_minor": 4
}
